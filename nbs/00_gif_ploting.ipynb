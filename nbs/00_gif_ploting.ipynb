{
 "cells": [
  {
   "cell_type": "markdown",
   "metadata": {},
   "source": [
    "# core\n",
    "\n",
    "> Fill in a module description here"
   ]
  },
  {
   "cell_type": "code",
   "execution_count": null,
   "metadata": {},
   "outputs": [],
   "source": [
    "#| default_exp core"
   ]
  },
  {
   "cell_type": "code",
   "execution_count": null,
   "metadata": {},
   "outputs": [],
   "source": [
    "#| hide\n",
    "from nbdev.showdoc import *"
   ]
  },
  {
   "cell_type": "code",
   "execution_count": null,
   "metadata": {},
   "outputs": [],
   "source": [
    "#| export\n",
    "import os\n",
    "import pandas as pd\n",
    "import numpy as np\n",
    "import plotly.io as pio\n",
    "from PIL import Image\n",
    "import io\n",
    "import imageio\n",
    "from IPython.display import display\n",
    "import plotly.express as px\n",
    "import plotly.graph_objects as go\n",
    "\n",
    "\n",
    "\n",
    "class GIF_PLOT(object):\n",
    "    \"\"\"\n",
    "    base class for gif data should be time series in this case\n",
    "    this class expects columns to be integer type.\n",
    "    \"\"\"\n",
    "    def __init__(self, data, analysis_column, ideal_column, group_column, time_column, label_column):\n",
    "        \n",
    "        self.data = data\n",
    "        self.analysis_column = analysis_column\n",
    "        self.ideal_column = ideal_column\n",
    "        self.group_column = group_column\n",
    "        self.time_column = time_column\n",
    "        self.label_column = label_column\n",
    "        \n",
    "    def mad(self, df_, factor = 1):\n",
    "        if df_.ndim == 1:\n",
    "            return factor * np.nanmedian(abs(df_ - np.nanmedian(df_)))\n",
    "        else:\n",
    "            return factor * np.nanmedian(abs(df_ - np.nanmedian(df_, axis=0)), axis=0)\n",
    "    \n",
    "    def add_batch_time(self):\n",
    "        \n",
    "        self.data[\"batch_time\"] = (\n",
    "            self.data.groupby(self.group_column)[self.time_column]\n",
    "            .transform(lambda x: (x.index - x.index.min()))\n",
    "            .apply(pd.Timedelta.total_seconds)\n",
    "        )\n",
    "        return self.data\n",
    "    \n",
    "    # Define a function to update the visibility of the traces based on the frame index\n",
    "    def update_visibility(self, index, fig, start_index=1):\n",
    "        for i in range(len(fig.data)):\n",
    "            if i>start_index:\n",
    "                fig.data[i].visible = i == index\n",
    "        \n",
    "    def get_median_profile(self, df):\n",
    "        fig = go.Figure()\n",
    "        colors = px.colors.qualitative.Dark24\n",
    "        color_map = {0:colors[0], 1: colors[1]}\n",
    "        for j, (i, group) in enumerate(df.groupby(self.label_column)):\n",
    "            fig.add_trace(go.Scatter(x = group.index, y = group['median'], line_color = color_map[i], name = 'median profiles of good parts'))\n",
    "#         fig.update_layout(fig, \"time\", col, \"y_title2\")\n",
    "        return fig\n",
    "    \n",
    "    \n",
    "    def get_update_layout(self, fig, x_title, y_title1):\n",
    "        fig.update_layout(width=900, height=550, plot_bgcolor='rgb(256,256,256)') # or simply 'white\n",
    "        fig.update_xaxes(title_text=x_title, showline=True, linewidth=0.2, linecolor='rgb(100,100,100)', ticks=\"outside\")\n",
    "        fig.update_yaxes(showline=True, linewidth=0.2, linecolor='rgb(100,100,100)', ticks=\"inside\")\n",
    "        fig.update_layout(xaxis=dict(domain=[0, 1]),\n",
    "                    yaxis=dict(title= y_title1,titlefont=dict(color=\"rgb(100,100,100)\"),tickfont=dict(color=\"rgb(100,100,100)\")),\n",
    "#                     yaxis2=dict(title= y_title2,titlefont=dict(color=\"rgb(100,100,100)\"),tickfont=dict(color=\"rgb(100,100,100)\"),\n",
    "#                         anchor=\"x\",overlaying=\"y\",side=\"right\",showline=True,linewidth=0.2,position=0.95,linecolor='rgb(100,100,100)',ticks=\"inside\"),\n",
    "#                           legend=dict(yanchor=\"top\",y=0.99,xanchor=\"left\",x=0.1),\n",
    "                )\n",
    "        return fig\n",
    "    \n",
    "    def get_gif_plot(self, save_address, plot_type = 'lines+markers'):\n",
    "        self.data[self.label_column] = self.data[self.label_column].astype(int)\n",
    "        df = self.data.groupby([self.label_column, 'batch_time'])[self.ideal_column].agg([self.mad, 'median']).reset_index(level=0)\n",
    "        fig = self.get_median_profile(df)\n",
    "\n",
    "        # title = fig.layout.title.text\n",
    "        fig = self.get_update_layout(fig, 'time', self.analysis_column)\n",
    "    \n",
    "        for id_, batch in self.data.groupby(self.group_column):\n",
    "            batch = batch.reset_index()\n",
    "            fig.add_trace(go.Scatter(y=batch[self.analysis_column], \n",
    "                                     mode=plot_type,\n",
    "                                     marker=dict(color=\"black\"),\n",
    "                                     showlegend=True,\n",
    "                                     name=f\"Batch_ids:{id_}\",\n",
    "                                     visible=False))\n",
    "\n",
    "        images = []\n",
    "        for i in range(len(fig.data)):\n",
    "            self.update_visibility(i, fig)  # Set the visibility for the current frame\n",
    "            fig_bytes = pio.to_image(fig, format=\"png\")  # Render the frame as a PNG image\n",
    "            img = Image.open(io.BytesIO(fig_bytes))\n",
    "            images.append(img)\n",
    "            \n",
    "        save_gif = os.path.join(save_address, 'fluctions_gif_plots')\n",
    "        os.makedirs(save_gif, exist_ok=True)\n",
    "        imageio.mimsave(os.path.join(save_gif, f\"animated_{self.analysis_column}.gif\"), images, fps=20) \n",
    "            \n"
   ]
  },
  {
   "cell_type": "code",
   "execution_count": null,
   "metadata": {},
   "outputs": [],
   "source": [
    "# file = '../../data/sample_data_for_gif.feather'\n",
    "# df = pd.read_feather(file)"
   ]
  },
  {
   "cell_type": "code",
   "execution_count": null,
   "metadata": {},
   "outputs": [],
   "source": [
    "# gif = GIF_PLOT(data=df, \n",
    "#                analysis_column='temperature_metal_temp_furnace_temp_1_pv',\n",
    "#                ideal_column='temperature_metal_temp_furnace_temp_1_pv',\n",
    "#                group_column='id_wheel', \n",
    "#                time_column='timestamp',\n",
    "#                label_column='label')\n",
    "# gif.get_gif_plot('../../data/')"
   ]
  },
  {
   "cell_type": "code",
   "execution_count": null,
   "metadata": {},
   "outputs": [],
   "source": []
  },
  {
   "cell_type": "code",
   "execution_count": null,
   "metadata": {},
   "outputs": [],
   "source": []
  }
 ],
 "metadata": {
  "kernelspec": {
   "display_name": "python3",
   "language": "python",
   "name": "python3"
  }
 },
 "nbformat": 4,
 "nbformat_minor": 4
}
